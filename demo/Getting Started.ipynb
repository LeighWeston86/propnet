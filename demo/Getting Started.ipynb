{
 "cells": [
  {
   "cell_type": "markdown",
   "metadata": {},
   "source": [
    "# Tutorial on using Propnet"
   ]
  },
  {
   "cell_type": "markdown",
   "metadata": {},
   "source": [
    "The following is a tutorial designed to give a base overview of the classes and constructs used in the Propnet project. For each class an example of its construction and base usage is provided."
   ]
  },
  {
   "cell_type": "markdown",
   "metadata": {},
   "source": [
    "# Defining a Property Network: Propnet"
   ]
  },
  {
   "cell_type": "markdown",
   "metadata": {},
   "source": [
    "A Propnet object tells us all about the property types and models currently available for use.\n",
    "\n",
    "The mappings contained in this object define an interconnected network of materials properties. In this form, the Propnet object can be used to enumerate and analyze links between differnet materials properties."
   ]
  },
  {
   "cell_type": "code",
   "execution_count": 1,
   "metadata": {},
   "outputs": [
    {
     "name": "stdout",
     "output_type": "stream",
     "text": [
      "Propnet is not intended for public use at this time. Unless you personally know one of its developers, you probably shouldn't be using it right now! :) Functionality might change.\n"
     ]
    }
   ],
   "source": [
    "from propnet import Propnet"
   ]
  },
  {
   "cell_type": "code",
   "execution_count": 2,
   "metadata": {},
   "outputs": [],
   "source": [
    "p = Propnet()"
   ]
  },
  {
   "cell_type": "markdown",
   "metadata": {},
   "source": [
    "You can print Propnet to see the property types and models it supports."
   ]
  },
  {
   "cell_type": "code",
   "execution_count": 3,
   "metadata": {},
   "outputs": [
    {
     "name": "stdout",
     "output_type": "stream",
     "text": [
      "Propnet Graph\n",
      "\n",
      "Symbol Types:\n",
      "\t Crystallographic structure (oxidation-state decorated)\n",
      "\t\t Decorate crystal structure with oxidation state\n",
      "\t Is Metallic\n",
      "\t\t Wiedemann-Franz Law\n",
      "\t\t Metallic Classifier\n",
      "\t Crystallographic structure\n",
      "\t Formula\n",
      "\t Crystal Prototype\n",
      "\t Elastic tensor (in Voigt notation)\n",
      "\t Interplanar Spacing\n",
      "\t Final Energy\n",
      "\t Goldschmidt tolerance factor\n",
      "\t Final Energy Per Atom\n",
      "\t Thermal conductivity\n",
      "\t\t Clarke thermal conductivity\n",
      "\t Refractive index\n",
      "\t\t Optical Reflectance from the complex refractive index\n",
      "\t\t Refractive index, relative permeability and permittivity\n",
      "\t Ionic radius of B site in perovskite\n",
      "\t\t Perovskite Classifier\n",
      "\t Absorption Coefficient\n",
      "\t\t Optical Absorbance from the absorption coefficient, thickness and reflectance\n",
      "\t\t Optical Absorption coefficient alpha from extinction coeff and wavelength\n",
      "\t P-wave modulus\n",
      "\t Extinction Coefficient\n",
      "\t\t Optical Reflectance from the complex refractive index\n",
      "\t\t Optical Absorption coefficient alpha from extinction coeff and wavelength\n",
      "\t Thermal conductivity, electronic contribution\n",
      "\t\t Wiedemann-Franz Law\n",
      "\t Transmittance\n",
      "\t\t Optical Transmittance from Absorbance and Reflectance and vise versa\n",
      "\t Interatomic Spacing\n",
      "\t Kohn-Sham gap (PBE)\n",
      "\t Relative permittivity\n",
      "\t\t Refractive Index and Extinction Coefficient from Comlex Permittivity\n",
      "\t\t Refractive index, relative permeability and permittivity\n",
      "\t Snyder's acoustic sound velocity\n",
      "\t\t Calculate Snyder sound velocities\n",
      "\t Volume per Unit Cell\n",
      "\t Young's modulus\n",
      "\t Poisson ratio\n",
      "\t Absorbance\n",
      "\t\t Optical Transmittance from Absorbance and Reflectance and vise versa\n",
      "\t Lamé's first parameter\n",
      "\t Magnetic deformation\n",
      "\t Compliance tensor (in Voigt notation)\n",
      "\t Snyder's optical sound velocity\n",
      "\t\t Calculate Snyder sound velocities\n",
      "\t Reflectance\n",
      "\t\t Optical Absorbance from the absorption coefficient, thickness and reflectance\n",
      "\t\t Optical Transmittance from Absorbance and Reflectance and vise versa\n",
      "\t Formation Energy per Atom\n",
      "\t Strengthening Coefficient\n",
      "\t Band gap\n",
      "\t\t Estimate experimental band gaps from GW and DFT (PBE) calculations\n",
      "\t\t Estimate experimental band gaps from DFT (PBE) calculations\n",
      "\t Peierls Stress\n",
      "\t\t Peierls-Nabarro Stress for Dislocation Slip\n",
      "\t Shear modulus\n",
      "\t Electron effective mass\n",
      "\t\t Approximate electron mobility from effective mass and bulk modulus\n",
      "\t Bulk modulus\n",
      "\t\t Approximate electron mobility from effective mass and bulk modulus\n",
      "\t Yield Stress\n",
      "\t Quasiparticle band gap (GW)\n",
      "\t\t Estimate experimental band gaps from GW and DFT (PBE) calculations\n",
      "\t Lattice vectors for unit cell\n",
      "\t Ionic radius of A site in perovskite\n",
      "\t\t Perovskite Classifier\n",
      "\t Relative permeability\n",
      "\t\t Refractive index, relative permeability and permittivity\n",
      "\t Density\n",
      "\t Electron mobility\n",
      "\t Electrical conductivity\n",
      "\t\t Wiedemann-Franz Law\n",
      "\t Energy per atom\n",
      "\t Ionic radius\n",
      "\t\t Find Goldchmidt Tolerance Factor from ionic radii\n",
      "\t Minimum stress needed for dislocation movement\n",
      "\t Elastic Anisotropy\n",
      "\t Snyder's total sound velocity\n",
      "\t Energy above hull\n",
      "\t Temperature\n",
      "\t\t Debye model\n",
      "\t Piezoelectric Tensor\n",
      "\t Imaginary part of relative permittivity\n",
      "\t\t Refractive Index and Extinction Coefficient from Comlex Permittivity\n",
      "\t Number of atomic sites\n",
      "\t Wavelength\n",
      "\t\t Optical Absorption coefficient alpha from extinction coeff and wavelength\n",
      "\t Resolved shear stress\n",
      "\t\t Schmid's Law\n",
      "\t Temperature\n",
      "\t\t Wiedemann-Franz Law\n",
      "\t Average grain diameter\n",
      "\t Schmid factor\n",
      "\t Applied stress\n",
      "\t Thickness\n",
      "\t\t Optical Absorbance from the absorption coefficient, thickness and reflectance\n",
      "Models:\n",
      "\t Debye model\n",
      "\t\t Elastic tensor (in Voigt notation)\n",
      "\t\t Crystallographic structure\n",
      "\t Estimate experimental band gaps from GW and DFT (PBE) calculations\n",
      "\t\t Quasiparticle band gap (GW)\n",
      "\t\t Kohn-Sham gap (PBE)\n",
      "\t Refractive Index and Extinction Coefficient from Comlex Permittivity\n",
      "\t\t Refractive index\n",
      "\t\t Extinction Coefficient\n",
      "\t Calculate Snyder sound velocities\n",
      "\t\t Elastic tensor (in Voigt notation)\n",
      "\t\t Crystallographic structure\n",
      "\t Optical Reflectance from the complex refractive index\n",
      "\t\t Reflectance\n",
      "\t Optical Absorbance from the absorption coefficient, thickness and reflectance\n",
      "\t\t Absorbance\n",
      "\t Clarke thermal conductivity\n",
      "\t\t Elastic tensor (in Voigt notation)\n",
      "\t\t Crystallographic structure\n",
      "\t Refractive index, relative permeability and permittivity\n",
      "\t\t Refractive index\n",
      "\t\t Relative permittivity\n",
      "\t\t Relative permeability\n",
      "\t Approximate electron mobility from effective mass and bulk modulus\n",
      "\t\t Electron mobility\n",
      "\t Wiedemann-Franz Law\n",
      "\t\t Electrical conductivity\n",
      "\t\t Thermal conductivity, electronic contribution\n",
      "\t Schmid's Law\n",
      "\t\t Schmid factor\n",
      "\t\t Applied stress\n",
      "\t Find Goldchmidt Tolerance Factor from ionic radii\n",
      "\t\t Goldschmidt tolerance factor\n",
      "\t Decorate crystal structure with oxidation state\n",
      "\t\t Crystallographic structure\n",
      "\t Perovskite Classifier\n",
      "\t\t Crystallographic structure (oxidation-state decorated)\n",
      "\t Peierls-Nabarro Stress for Dislocation Slip\n",
      "\t\t Poisson ratio\n",
      "\t\t Interplanar Spacing\n",
      "\t\t Shear modulus\n",
      "\t\t Interatomic Spacing\n",
      "\t Optical Absorption coefficient alpha from extinction coeff and wavelength\n",
      "\t\t Absorption Coefficient\n",
      "\t\t Extinction Coefficient\n",
      "\t\t Wavelength\n",
      "\t Estimate experimental band gaps from DFT (PBE) calculations\n",
      "\t\t Kohn-Sham gap (PBE)\n",
      "\t Metallic Classifier\n",
      "\t\t Kohn-Sham gap (PBE)\n",
      "\t Optical Transmittance from Absorbance and Reflectance and vise versa\n",
      "\t\t Transmittance\n",
      "\t\t Reflectance\n",
      "\t\t Absorbance\n"
     ]
    }
   ],
   "source": [
    "print(p)"
   ]
  },
  {
   "cell_type": "markdown",
   "metadata": {},
   "source": [
    "Or you can iterate over the graph to see how it works behind the scenes."
   ]
  },
  {
   "cell_type": "code",
   "execution_count": 4,
   "metadata": {
    "scrolled": true
   },
   "outputs": [
    {
     "name": "stdout",
     "output_type": "stream",
     "text": [
      "SymbolType<object<structure_oxi>>\n",
      "SymbolType<object<is_metallic>>\n",
      "SymbolType<object<structure>>\n",
      "SymbolType<object<pretty_formula>>\n",
      "SymbolType<object<prototype>>\n",
      "SymbolType<property<elastic_tensor_voigt>>\n",
      "SymbolType<property<interplanar_spacing>>\n",
      "SymbolType<property<final_energy>>\n",
      "SymbolType<property<goldschmidt_tolerance_factor>>\n",
      "SymbolType<property<final_energy_per_atom>>\n",
      "SymbolType<property<thermal_conductivity>>\n",
      "SymbolType<property<refractive_index>>\n",
      "SymbolType<property<ionic_radius_b>>\n",
      "SymbolType<property<absorption_coefficient>>\n",
      "SymbolType<property<p_wave_modulus>>\n",
      "SymbolType<property<extinction_coefficient>>\n",
      "SymbolType<property<electronic_thermal_conductivity>>\n",
      "SymbolType<property<transmittance>>\n",
      "SymbolType<property<interatomic_spacing>>\n",
      "SymbolType<property<band_gap_pbe>>\n",
      "SymbolType<property<relative_permittivity>>\n",
      "SymbolType<property<snyder_acoustic_sound_velocity>>\n",
      "SymbolType<property<volume_unit_cell>>\n",
      "SymbolType<property<youngs_modulus>>\n",
      "SymbolType<property<poisson_ratio>>\n",
      "SymbolType<property<absorbance>>\n",
      "SymbolType<property<lame_first_parameter>>\n",
      "SymbolType<property<magnetic_deformation>>\n",
      "SymbolType<property<compliance_tensor_voigt>>\n",
      "SymbolType<property<snyder_optical_sound_velocity>>\n",
      "SymbolType<property<reflectance>>\n",
      "SymbolType<property<formation_energy_per_atom>>\n",
      "SymbolType<property<strengthening_coefficient>>\n",
      "SymbolType<property<band_gap>>\n",
      "SymbolType<property<peierls_stress>>\n",
      "SymbolType<property<shear_modulus>>\n",
      "SymbolType<property<electron_effective_mass>>\n",
      "SymbolType<property<bulk_modulus>>\n",
      "SymbolType<property<yield_stress>>\n",
      "SymbolType<property<band_gap_gw>>\n",
      "SymbolType<property<lattice_unit_cell>>\n",
      "SymbolType<property<ionic_radius_a>>\n",
      "SymbolType<property<relative_permeability>>\n",
      "SymbolType<property<density>>\n",
      "SymbolType<property<electron_mobility>>\n",
      "SymbolType<property<electrical_conductivity>>\n",
      "SymbolType<property<energy_per_atom>>\n",
      "SymbolType<property<ionic_radius>>\n",
      "SymbolType<property<dislocation_movement_stress>>\n",
      "SymbolType<property<elastic_anisotropy>>\n",
      "SymbolType<property<snyder_total_sound_velocity>>\n",
      "SymbolType<property<energy_above_hull>>\n",
      "SymbolType<property<debye_temperature>>\n",
      "SymbolType<property<piezoelectric_tensor>>\n",
      "SymbolType<property<relative_permittivity_im>>\n",
      "SymbolType<property<nsites>>\n",
      "SymbolType<condition<wavelength>>\n",
      "SymbolType<condition<resolved_shear_stress>>\n",
      "SymbolType<condition<temperature>>\n",
      "SymbolType<condition<grain_diameter>>\n",
      "SymbolType<condition<schmid_factor>>\n",
      "SymbolType<condition<applied_stress>>\n",
      "SymbolType<condition<thickness>>\n",
      "Model<DebyeTemperature>\n",
      "Model<EmpiricalBandGapsGarcia>\n",
      "Model<ComplexRefrFromComplexPerm>\n",
      "Model<SnyderSoundVelocity>\n",
      "Model<OpticalReflectance>\n",
      "Model<OpticalAbsorbance>\n",
      "Model<ClarkeThermalConductivity>\n",
      "Model<RefractiveIndexfromRelPerm>\n",
      "Model<SemiEmpiricalMobility>\n",
      "Model<WiedemannFranzLaw>\n",
      "Model<SchmidsLaw>\n",
      "Model<GoldschmidtTolerance>\n",
      "Model<TransformationOxiStructure>\n",
      "Model<PerovskiteClassifier>\n",
      "Model<PeierlsStress>\n",
      "Model<OpticalAbsorptionCoefficient>\n",
      "Model<EmpiricalBandGapSetyawan>\n",
      "Model<IsMetallic>\n",
      "Model<OpticalTransmittance>\n"
     ]
    }
   ],
   "source": [
    "for n in p.graph.nodes():\n",
    "    print(n)"
   ]
  },
  {
   "cell_type": "markdown",
   "metadata": {},
   "source": [
    "# Defining a Symbol or Property"
   ]
  },
  {
   "cell_type": "markdown",
   "metadata": {},
   "source": [
    "A SymbolType object is used to represent types of properties (such as Young's Modulus) or conditions (such as Temperature).\n",
    "- All SymbolType objects are accessible in a global DEFAULT_SYMBOL_TYPES variable.\n",
    "- Various metadata for each SymbolType can be accessed as shown below."
   ]
  },
  {
   "cell_type": "code",
   "execution_count": 5,
   "metadata": {},
   "outputs": [],
   "source": [
    "from propnet.symbols import DEFAULT_SYMBOL_TYPES"
   ]
  },
  {
   "cell_type": "code",
   "execution_count": 6,
   "metadata": {},
   "outputs": [
    {
     "name": "stdout",
     "output_type": "stream",
     "text": [
      "youngs_modulus:\n",
      "\tname:\tyoungs_modulus\n",
      "\tunits:\t1.0 gigapascal\n",
      "\tdisplay_names:\t[\"Young's modulus\", 'Elastic modulus']\n",
      "\tdisplay_symbols:\t['E']\n",
      "\tdimension:\t1\n",
      "\tcomment:\t\n",
      "\tcategory:\tproperty\n",
      "\n"
     ]
    }
   ],
   "source": [
    "symbol_type_object = DEFAULT_SYMBOL_TYPES['youngs_modulus']\n",
    "print(symbol_type_object)"
   ]
  },
  {
   "cell_type": "markdown",
   "metadata": {},
   "source": [
    "A Symbol object is used to represent values of properties (such as Young's Modulus = 200GPa) or conditions (such as temperature = 300K).\n",
    "\n",
    "- All Symbol objects have a SymbolType giving the type of property represented by the value.\n",
    "- All Symbol objects must be created at runtime by specifying a value during instantiation.\n",
    "- All Symbol objects have a list of strings called \"tags\" used to further label the property."
   ]
  },
  {
   "cell_type": "code",
   "execution_count": 7,
   "metadata": {
    "scrolled": true
   },
   "outputs": [],
   "source": [
    "from propnet import Symbol"
   ]
  },
  {
   "cell_type": "code",
   "execution_count": 8,
   "metadata": {},
   "outputs": [
    {
     "name": "stdout",
     "output_type": "stream",
     "text": [
      "<youngs_modulus, 200, ['mild steel']>\n"
     ]
    }
   ],
   "source": [
    "steel_youngs_modulus = Symbol('youngs_modulus', 200, ['mild steel'])\n",
    "print(steel_youngs_modulus)"
   ]
  },
  {
   "cell_type": "markdown",
   "metadata": {},
   "source": [
    "# Defining a Material"
   ]
  },
  {
   "cell_type": "markdown",
   "metadata": {},
   "source": [
    "A Material object is used to represent a collection of information known about a given material.\n",
    "\n",
    "When it is first created it has no information; however, properties can be added to the material one-by-one."
   ]
  },
  {
   "cell_type": "code",
   "execution_count": 9,
   "metadata": {},
   "outputs": [],
   "source": [
    "from propnet import Material\n",
    "from propnet import Symbol"
   ]
  },
  {
   "cell_type": "code",
   "execution_count": 10,
   "metadata": {},
   "outputs": [
    {
     "name": "stdout",
     "output_type": "stream",
     "text": [
      "Material: bc3de55f-8d2c-4937-8b20-26f413f0251a\n",
      "\tyoungs_modulus:\t200\n",
      "\n"
     ]
    }
   ],
   "source": [
    "mild_steel = Material()\n",
    "youngs_modulus = Symbol('youngs_modulus', 200, [])\n",
    "mild_steel.add_property(youngs_modulus)\n",
    "print(mild_steel)"
   ]
  },
  {
   "cell_type": "markdown",
   "metadata": {},
   "source": [
    "# Combining Models, Materials, and Symbols"
   ]
  },
  {
   "cell_type": "markdown",
   "metadata": {},
   "source": [
    "As illustrated, a Propnet object contains information for connecting many different models and symbol types. This forms an abstract web of interconnected variables without any quantities specified.\n",
    "\n",
    "On the other hand, a Material object represents a grouping of values for different variables. These are represented as a collection of Symbol objects identified with the material.\n",
    "\n",
    "At runtime, a single Propnet object can be combined with one or more Material objects. This procedure allows values to be plugged in to variables. Assuming the required inputs for a model all have values, the Propnet object can then dynamically predict the values for the output variables of the model."
   ]
  },
  {
   "cell_type": "code",
   "execution_count": 11,
   "metadata": {},
   "outputs": [
    {
     "name": "stdout",
     "output_type": "stream",
     "text": [
      "Material: 7008655a-4187-48c4-a430-750e0ff487da\n",
      "\trefractive_index:\t1.458\n",
      "\trelative_permittivity:\t3.9\n",
      "\n"
     ]
    }
   ],
   "source": [
    "## Setting up the example:\n",
    "from propnet import Propnet\n",
    "p = Propnet()\n",
    "\n",
    "silica = Material()\n",
    "refractive_index = Symbol('refractive_index', 1.458, [])\n",
    "relative_permittivity = Symbol('relative_permittivity', 3.9, [])\n",
    "\n",
    "silica.add_property(refractive_index)\n",
    "silica.add_property(relative_permittivity)\n",
    "\n",
    "p.add_material(silica)\n",
    "print(silica)"
   ]
  },
  {
   "cell_type": "markdown",
   "metadata": {},
   "source": [
    "Propnet can now examine the input values and identify if any models can be used to derive additional properties.\n",
    "\n",
    "In this example, we've provided the relative permittivity and index of refraction of silica. Thus, using the canonical relationship from electromagnetism, we expect Propnet to properly derive the relative permeability.\n",
    "\n",
    "Re-examining the material object previously created, a new Symbol object, the relative permeability, is now associated with that material."
   ]
  },
  {
   "cell_type": "code",
   "execution_count": 12,
   "metadata": {},
   "outputs": [
    {
     "name": "stdout",
     "output_type": "stream",
     "text": [
      "Material: 7008655a-4187-48c4-a430-750e0ff487da\n",
      "\trefractive_index:\t1.458\n",
      "\trelative_permittivity:\t3.9\n",
      "\trelative_permeability:\t0.545067692307692\n",
      "\n"
     ]
    }
   ],
   "source": [
    "p.evaluate(material=silica)\n",
    "print(silica)"
   ]
  },
  {
   "cell_type": "markdown",
   "metadata": {},
   "source": [
    "# Working with Models"
   ]
  },
  {
   "cell_type": "markdown",
   "metadata": {},
   "source": [
    "A Model object is used to represent a relationship between different materials property variables. This object can be directly manipulated and stores relavent metadata available as direct attributes.\n",
    "\n",
    "- All Models are imported as classes at runtime.\n",
    "- A Model class must be instantiated to be used at runtime."
   ]
  },
  {
   "cell_type": "code",
   "execution_count": 13,
   "metadata": {},
   "outputs": [
    {
     "name": "stdout",
     "output_type": "stream",
     "text": [
      "\n",
      "The refractive index gives the factor by which the speed of light is reduced in a medium.\n",
      "\n",
      "Likewise, modeling the induced magnetic and electric dipoles as linear within a material,\n",
      "a relative spatial electrical permittivity and relative spatial magnetic permeability\n",
      "arise from consideration of the total electrical and magnetic fields.\n",
      "\n",
      "From the Maxwell Relations, the index of refraction is equal to the geometric mean  of the\n",
      "relative permittivity and the relative permeability.\n",
      "\n",
      "RefractiveIndexfromRelPerm\n",
      "\n",
      "['n - sqrt(Ur*Er)']\n"
     ]
    }
   ],
   "source": [
    "from propnet.models import *\n",
    "model = RefractiveIndexfromRelPerm()\n",
    "print(model.description)\n",
    "print(model.name)\n",
    "print()\n",
    "print(model.equations)"
   ]
  },
  {
   "cell_type": "markdown",
   "metadata": {},
   "source": [
    "The Model class is a generally-defined interface, and subclasses may alter many aspects of its underlying functionality.\n",
    "\n",
    "\n",
    "Most Model objects will contain equations, symbols, and connections attributes. These define the core functionality of the model:\n",
    "\n",
    "The equations attribute will contain a list of sympy-parsable expressions. These expressions imply trivial equations such that the expression is equal to zero.\n",
    "\n",
    "The symbols attribute map the symbols used in the equations to Symbol_Type objects used in the Property Network.\n",
    "\n",
    "The connections attribute shows what outputs can be generated from a set of inputs."
   ]
  },
  {
   "cell_type": "code",
   "execution_count": 14,
   "metadata": {},
   "outputs": [
    {
     "name": "stdout",
     "output_type": "stream",
     "text": [
      "{'Er': 'relative_permeability', 'Ur': 'relative_permittivity', 'n': 'refractive_index'}\n",
      "\n",
      "['n - sqrt(Ur*Er)']\n",
      "\n",
      "[{'inputs': ['Ur', 'Er'], 'outputs': 'n'}, {'inputs': ['Er', 'n'], 'outputs': 'Ur'}, {'inputs': ['Ur', 'n'], 'outputs': 'Er'}]\n"
     ]
    }
   ],
   "source": [
    "print(model.symbol_mapping)\n",
    "print()\n",
    "print(model.equations)\n",
    "print()\n",
    "print(model.connections)"
   ]
  },
  {
   "cell_type": "markdown",
   "metadata": {},
   "source": [
    "A Model can be evaluated to generate outputs if given a complete set of inputs.\n",
    "\n",
    "Given the relative permeability and permittivity, the Refractive Index From Relative Permeability model can correctly calculate the index of refraction.\n",
    "\n",
    "This is given by 'n' in the dictionary below."
   ]
  },
  {
   "cell_type": "code",
   "execution_count": 15,
   "metadata": {
    "scrolled": true
   },
   "outputs": [
    {
     "data": {
      "text/plain": [
       "{'n': 1.45120639469374, 'successful': True}"
      ]
     },
     "execution_count": 15,
     "metadata": {},
     "output_type": "execute_result"
    }
   ],
   "source": [
    "model.evaluate({'Ur': 0.54, 'Er': 3.9})"
   ]
  },
  {
   "cell_type": "markdown",
   "metadata": {},
   "source": [
    "# Loading Materials Data"
   ]
  },
  {
   "cell_type": "markdown",
   "metadata": {},
   "source": [
    "Material properties can be loaded in from the Materials Project so they don't need to be defined and added manually.\n",
    "\n",
    "Accessing Materials Project data requires an API key. You must input your own API key below to run the sample. You can locate your api key by logging into materialsproject.org and visiting the dashboard."
   ]
  },
  {
   "cell_type": "code",
   "execution_count": 20,
   "metadata": {
    "scrolled": true
   },
   "outputs": [
    {
     "name": "stdout",
     "output_type": "stream",
     "text": [
      "Material: c8bde11c-70f6-4024-8e61-64bfffc88586\n",
      "\tstructure:\tFull Formula (Si2 O4)\n",
      "Reduced Formula: SiO2\n",
      "abc   :   5.138209   5.139163   5.138919\n",
      "angles:  88.540850 120.840203 120.841618\n",
      "Sites (6)\n",
      "  #  SP           a         b         c    coordination_no  forces\n",
      "---  ----  --------  --------  --------  -----------------  --------------------------------------\n",
      "  0  O     0.334692  0.375014  0.209679                  4  [0.00907491, -0.00223112, 0.00638321]\n",
      "  1  Si    0.999993  1.00001   0.999974                  4  [0.00399411, 0.00268543, 0.00019724]\n",
      "  2  O     0.834699  0.959681  0.625017                  4  [0.00353084, 0.00703423, -0.00908806]\n",
      "  3  O     0.165321  0.790307  0.12502                   4  [-0.00778536, -0.00920807, 0.00757932]\n",
      "  4  O     0.665314  0.875015  0.040304                  4  [-0.01303024, -0.000511, -0.00656695]\n",
      "  5  Si    0.49998   0.749969  0.250005                  4  [0.00421573, 0.00223052, 0.00149524]\n",
      "\tlattice_unit_cell:\t[[ 4.59584983 -0.71705099 -2.1829313 ]\n",
      " [-2.5970339   4.37838769 -0.70436621]\n",
      " [-0.42487417  0.71734555  5.07083664]]\n",
      "\tformation_energy_per_atom:\t-3.2846466908333327\n",
      "\tpoisson_ratio:\t0.06\n",
      "\tdensity:\t2.1069457950719883\n",
      "\telastic_tensor_voigt:\t[[91.0, -38.0, 17.0, 0.0, 0.0, 0.0], [-38.0, 91.0, 17.0, 0.0, 0.0, 0.0], [17.0, 17.0, 86.0, 0.0, 0.0, 0.0], [0.0, 0.0, 0.0, 32.0, 0.0, 0.0], [0.0, 0.0, 0.0, 0.0, 32.0, 0.0], [0.0, 0.0, 0.0, 0.0, 0.0, 30.0]]\n",
      "\tenergy_above_hull:\t0\n",
      "\tfinal_energy_per_atom:\t-7.9152607999999995\n",
      "\tbulk_modulus:\t27.0\n",
      "\tvolume_unit_cell:\t94.70800712994269\n",
      "\telastic_anisotropy:\t0.86\n",
      "\tfinal_energy:\t-47.4915648\n",
      "\tpiezoelectric_tensor:\t[[0.0, 0.0, 0.0, -0.03729, 0.0, 0.0], [0.0, 0.0, 0.0, 0.0, -0.03729, 0.0], [0.0, 0.0, 0.0, 0.0, 0.0, -0.15524]]\n",
      "\n"
     ]
    }
   ],
   "source": [
    "from propnet.ext.matproj import *\n",
    "my_api_key = 'my_api_key'\n",
    "silica = import_material('mp-546794', api_key=my_api_key)\n",
    "print(silica)"
   ]
  },
  {
   "cell_type": "markdown",
   "metadata": {},
   "source": [
    "# Working with Units"
   ]
  },
  {
   "cell_type": "markdown",
   "metadata": {},
   "source": [
    "# Creating Custom Models and Properties"
   ]
  },
  {
   "cell_type": "markdown",
   "metadata": {},
   "source": [
    "# Coming Soon..."
   ]
  },
  {
   "cell_type": "code",
   "execution_count": 15,
   "metadata": {},
   "outputs": [],
   "source": [
    "from pint import UnitRegistry"
   ]
  },
  {
   "cell_type": "code",
   "execution_count": 16,
   "metadata": {},
   "outputs": [],
   "source": [
    "ureg = UnitRegistry()"
   ]
  },
  {
   "cell_type": "code",
   "execution_count": 19,
   "metadata": {
    "scrolled": true
   },
   "outputs": [
    {
     "data": {
      "text/plain": [
       "(1, (('gigapascal', 1.0),))"
      ]
     },
     "execution_count": 19,
     "metadata": {},
     "output_type": "execute_result"
    }
   ],
   "source": [
    "ureg.parse_expression(\"gigapascal\").to_tuple()"
   ]
  },
  {
   "cell_type": "code",
   "execution_count": 24,
   "metadata": {},
   "outputs": [],
   "source": [
    "node_list = list(p.graph.nodes)"
   ]
  },
  {
   "cell_type": "code",
   "execution_count": 27,
   "metadata": {},
   "outputs": [],
   "source": [
    "from enum import Enum"
   ]
  },
  {
   "cell_type": "code",
   "execution_count": 32,
   "metadata": {},
   "outputs": [
    {
     "name": "stdout",
     "output_type": "stream",
     "text": [
      "<class 'propnet.models.ElasticComplianceVoigtConverter.ElasticComplianceVoigtConverter'>\n",
      "<class 'abc.ABCMeta'>\n"
     ]
    }
   ],
   "source": [
    "idx = 10\n",
    "print(node_list[idx])\n",
    "print(type(node_list[idx]))\n",
    "if isinstance(node_list[idx], Enum):\n",
    "    print(node_list[idx].value)\n",
    "    print(type(node_list[idx].value))"
   ]
  },
  {
   "cell_type": "code",
   "execution_count": 33,
   "metadata": {},
   "outputs": [
    {
     "ename": "AttributeError",
     "evalue": "type object 'Material' has no attribute 'from_mpid'",
     "output_type": "error",
     "traceback": [
      "\u001b[0;31m---------------------------------------------------------------------------\u001b[0m",
      "\u001b[0;31mAttributeError\u001b[0m                            Traceback (most recent call last)",
      "\u001b[0;32m<ipython-input-33-5b5f1965f881>\u001b[0m in \u001b[0;36m<module>\u001b[0;34m()\u001b[0m\n\u001b[0;32m----> 1\u001b[0;31m \u001b[0mmy_material\u001b[0m \u001b[0;34m=\u001b[0m \u001b[0mMaterial\u001b[0m\u001b[0;34m.\u001b[0m\u001b[0mfrom_mpid\u001b[0m\u001b[0;34m(\u001b[0m\u001b[0;34m\"mp-12345\"\u001b[0m\u001b[0;34m)\u001b[0m\u001b[0;34m\u001b[0m\u001b[0m\n\u001b[0m\u001b[1;32m      2\u001b[0m \u001b[0mp\u001b[0m\u001b[0;34m.\u001b[0m\u001b[0madd_material\u001b[0m\u001b[0;34m(\u001b[0m\u001b[0mmy_material\u001b[0m\u001b[0;34m)\u001b[0m\u001b[0;34m\u001b[0m\u001b[0m\n",
      "\u001b[0;31mAttributeError\u001b[0m: type object 'Material' has no attribute 'from_mpid'"
     ]
    }
   ],
   "source": [
    "my_material = Material.from_mpid(\"mp-12345\")\n",
    "p.add_material(my_material)"
   ]
  },
  {
   "cell_type": "markdown",
   "metadata": {},
   "source": [
    "# Defining a Model with Constraints"
   ]
  },
  {
   "cell_type": "code",
   "execution_count": null,
   "metadata": {},
   "outputs": [],
   "source": [
    "class MySampleModel(AbstractModel):\n",
    "    \n",
    "    "
   ]
  }
 ],
 "metadata": {
  "kernelspec": {
   "display_name": "Python 3",
   "language": "python",
   "name": "python3"
  },
  "language_info": {
   "codemirror_mode": {
    "name": "ipython",
    "version": 3
   },
   "file_extension": ".py",
   "mimetype": "text/x-python",
   "name": "python",
   "nbconvert_exporter": "python",
   "pygments_lexer": "ipython3",
   "version": "3.6.3"
  }
 },
 "nbformat": 4,
 "nbformat_minor": 2
}
