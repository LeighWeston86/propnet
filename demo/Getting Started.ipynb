{
 "cells": [
  {
   "cell_type": "markdown",
   "metadata": {},
   "source": [
    "# Tutorial on using Propnet"
   ]
  },
  {
   "cell_type": "markdown",
   "metadata": {},
   "source": [
    "The following is a tutorial designed to give a base overview of the classes and constructs used in the Propnet project. For each class an example of its construction and base usage is provided."
   ]
  },
  {
   "cell_type": "markdown",
   "metadata": {},
   "source": [
    "# Defining a Property Network: Propnet"
   ]
  },
  {
   "cell_type": "markdown",
   "metadata": {},
   "source": [
    "A Propnet object tells us all about the property types and models currently available for use.\n",
    "\n",
    "The mappings contained in this object define an interconnected network of materials properties. In this form, the Propnet object can be used to enumerate and analyze links between differnet materials properties."
   ]
  },
  {
   "cell_type": "code",
   "execution_count": 38,
   "metadata": {},
   "outputs": [],
   "source": [
    "from propnet import Propnet"
   ]
  },
  {
   "cell_type": "code",
   "execution_count": 2,
   "metadata": {},
   "outputs": [],
   "source": [
    "p = Propnet()"
   ]
  },
  {
   "cell_type": "markdown",
   "metadata": {},
   "source": [
    "You can print Propnet to see the property types and models it supports."
   ]
  },
  {
   "cell_type": "code",
   "execution_count": 3,
   "metadata": {},
   "outputs": [
    {
     "name": "stdout",
     "output_type": "stream",
     "text": [
      "Propnet Graph\n",
      "\n",
      "Property Types:\n",
      "\t Crystallographic structure (oxidation-state decorated)\n",
      "\t\t Decorate crystal structure with oxidation state\n",
      "\t Is Metallic\n",
      "\t\t Wiedemann-Franz Law\n",
      "\t\t Metallic Classifier\n",
      "\t Crystallographic structure\n",
      "\t Formula\n",
      "\t Crystal Prototype\n",
      "\t Elastic tensor (in Voigt notation)\n",
      "\t Interplanar Spacing\n",
      "\t Final Energy\n",
      "\t Goldschmidt tolerance factor\n",
      "\t Thermal conductivity\n",
      "\t\t Clarke thermal conductivity\n",
      "\t Refractive index\n",
      "\t\t Refractive index, relative permeability and permittivity\n",
      "\t Ionic radius of B site in perovskite\n",
      "\t\t Perovskite Classifier\n",
      "\t P-wave modulus\n",
      "\t Thermal conductivity, electronic contribution\n",
      "\t\t Wiedemann-Franz Law\n",
      "\t Interatomic Spacing\n",
      "\t Kohn-Sham gap (PBE)\n",
      "\t Relative permittivity\n",
      "\t\t Refractive index, relative permeability and permittivity\n",
      "\t Snyder's acoustic sound velocity\n",
      "\t\t Calculate Snyder sound velocities\n",
      "\t Volume per Unit Cell\n",
      "\t Young's modulus\n",
      "\t Poisson ratio\n",
      "\t Lamé's first parameter\n",
      "\t Magnetic deformation\n",
      "\t Compliance tensor (in Voigt notation)\n",
      "\t Snyder's optical sound velocity\n",
      "\t\t Calculate Snyder sound velocities\n",
      "\t Formation Energy per Atom\n",
      "\t Strengthening Coefficient\n",
      "\t Band gap\n",
      "\t\t Estimate experimental band gaps from GW and DFT (PBE) calculations\n",
      "\t\t Estimate experimental band gaps from DFT (PBE) calculations\n",
      "\t Peierls Stress\n",
      "\t\t Peierls-Nabarro Stress for Dislocation Slip\n",
      "\t Shear modulus\n",
      "\t Bulk modulus\n",
      "\t Yield Stress\n",
      "\t Quasiparticle band gap (GW)\n",
      "\t\t Estimate experimental band gaps from GW and DFT (PBE) calculations\n",
      "\t Lattice vectors for unit cell\n",
      "\t Ionic radius of A site in perovskite\n",
      "\t\t Perovskite Classifier\n",
      "\t Relative permeability\n",
      "\t\t Refractive index, relative permeability and permittivity\n",
      "\t Density\n",
      "\t Electrical conductivity\n",
      "\t\t Wiedemann-Franz Law\n",
      "\t Energy per atom\n",
      "\t Ionic radius\n",
      "\t\t Find Goldchmidt Tolerance Factor from ionic radii\n",
      "\t Minimum stress needed for dislocation movement\n",
      "\t Snyder's total sound velocity\n",
      "\t Energy above hull\n",
      "\t Temperature\n",
      "\t\t Debye model\n",
      "\t Piezoelectric Tensor\n",
      "\t Number of atomic sites\n",
      "\t Resolved shear stress\n",
      "\t\t Schmid's Law\n",
      "\t Temperature\n",
      "\t\t Wiedemann-Franz Law\n",
      "\t Average grain diameter\n",
      "\t Schmid factor\n",
      "\t Applied stress\n",
      "Models:\n",
      "\t Debye model\n",
      "\t\t Elastic tensor (in Voigt notation)\n",
      "\t\t Crystallographic structure\n",
      "\t Estimate experimental band gaps from GW and DFT (PBE) calculations\n",
      "\t\t Quasiparticle band gap (GW)\n",
      "\t\t Kohn-Sham gap (PBE)\n",
      "\t Calculate Snyder sound velocities\n",
      "\t\t Elastic tensor (in Voigt notation)\n",
      "\t\t Crystallographic structure\n",
      "\t Clarke thermal conductivity\n",
      "\t\t Elastic tensor (in Voigt notation)\n",
      "\t\t Crystallographic structure\n",
      "\t Refractive index, relative permeability and permittivity\n",
      "\t\t Refractive index\n",
      "\t\t Relative permittivity\n",
      "\t\t Relative permeability\n",
      "\t Wiedemann-Franz Law\n",
      "\t\t Electrical conductivity\n",
      "\t\t Thermal conductivity, electronic contribution\n",
      "\t Schmid's Law\n",
      "\t\t Schmid factor\n",
      "\t\t Applied stress\n",
      "\t Find Goldchmidt Tolerance Factor from ionic radii\n",
      "\t\t Goldschmidt tolerance factor\n",
      "\t Decorate crystal structure with oxidation state\n",
      "\t\t Crystallographic structure\n",
      "\t Perovskite Classifier\n",
      "\t\t Crystallographic structure (oxidation-state decorated)\n",
      "\t Peierls-Nabarro Stress for Dislocation Slip\n",
      "\t\t Poisson ratio\n",
      "\t\t Interplanar Spacing\n",
      "\t\t Shear modulus\n",
      "\t\t Interatomic Spacing\n",
      "\t Estimate experimental band gaps from DFT (PBE) calculations\n",
      "\t\t Kohn-Sham gap (PBE)\n",
      "\t Metallic Classifier\n",
      "\t\t Kohn-Sham gap (PBE)\n"
     ]
    }
   ],
   "source": [
    "print(p)"
   ]
  },
  {
   "cell_type": "markdown",
   "metadata": {},
   "source": [
    "Or you can iterate over the graph to see how it works behind the scenes."
   ]
  },
  {
   "cell_type": "code",
   "execution_count": 4,
   "metadata": {},
   "outputs": [
    {
     "name": "stdout",
     "output_type": "stream",
     "text": [
      "PropnetNode(node_type=<PropnetNodeType.SymbolType: 2>, node_value=<SymbolType.structure_oxi: <propnet.core.symbols.SymbolMetadata object at 0x109ce4048>>)\n",
      "PropnetNode(node_type=<PropnetNodeType.SymbolType: 2>, node_value=<SymbolType.is_metallic: <propnet.core.symbols.SymbolMetadata object at 0x109ce42a0>>)\n",
      "PropnetNode(node_type=<PropnetNodeType.SymbolType: 2>, node_value=<SymbolType.structure: <propnet.core.symbols.SymbolMetadata object at 0x109ce4318>>)\n",
      "PropnetNode(node_type=<PropnetNodeType.SymbolType: 2>, node_value=<SymbolType.pretty_formula: <propnet.core.symbols.SymbolMetadata object at 0x109ce4390>>)\n",
      "PropnetNode(node_type=<PropnetNodeType.SymbolType: 2>, node_value=<SymbolType.prototype: <propnet.core.symbols.SymbolMetadata object at 0x109ce4408>>)\n",
      "PropnetNode(node_type=<PropnetNodeType.SymbolType: 2>, node_value=<SymbolType.elastic_tensor_voigt: <propnet.core.symbols.SymbolMetadata object at 0x109ce4480>>)\n",
      "PropnetNode(node_type=<PropnetNodeType.SymbolType: 2>, node_value=<SymbolType.interplanar_spacing: <propnet.core.symbols.SymbolMetadata object at 0x109ce44f8>>)\n",
      "PropnetNode(node_type=<PropnetNodeType.SymbolType: 2>, node_value=<SymbolType.final_energy: <propnet.core.symbols.SymbolMetadata object at 0x109ce4570>>)\n",
      "PropnetNode(node_type=<PropnetNodeType.SymbolType: 2>, node_value=<SymbolType.goldschmidt_tolerance_factor: <propnet.core.symbols.SymbolMetadata object at 0x109ce45e8>>)\n",
      "PropnetNode(node_type=<PropnetNodeType.SymbolType: 2>, node_value=<SymbolType.thermal_conductivity: <propnet.core.symbols.SymbolMetadata object at 0x109ce4660>>)\n",
      "PropnetNode(node_type=<PropnetNodeType.SymbolType: 2>, node_value=<SymbolType.refractive_index: <propnet.core.symbols.SymbolMetadata object at 0x109ce46d8>>)\n",
      "PropnetNode(node_type=<PropnetNodeType.SymbolType: 2>, node_value=<SymbolType.ionic_radius_b: <propnet.core.symbols.SymbolMetadata object at 0x109ce4750>>)\n",
      "PropnetNode(node_type=<PropnetNodeType.SymbolType: 2>, node_value=<SymbolType.p_wave_modulus: <propnet.core.symbols.SymbolMetadata object at 0x109ce47c8>>)\n",
      "PropnetNode(node_type=<PropnetNodeType.SymbolType: 2>, node_value=<SymbolType.electronic_thermal_conductivity: <propnet.core.symbols.SymbolMetadata object at 0x109ce4840>>)\n",
      "PropnetNode(node_type=<PropnetNodeType.SymbolType: 2>, node_value=<SymbolType.interatomic_spacing: <propnet.core.symbols.SymbolMetadata object at 0x109ce48b8>>)\n",
      "PropnetNode(node_type=<PropnetNodeType.SymbolType: 2>, node_value=<SymbolType.band_gap_pbe: <propnet.core.symbols.SymbolMetadata object at 0x109ce4930>>)\n",
      "PropnetNode(node_type=<PropnetNodeType.SymbolType: 2>, node_value=<SymbolType.relative_permittivity: <propnet.core.symbols.SymbolMetadata object at 0x109ce49a8>>)\n",
      "PropnetNode(node_type=<PropnetNodeType.SymbolType: 2>, node_value=<SymbolType.snyder_acoustic_sound_velocity: <propnet.core.symbols.SymbolMetadata object at 0x109ce4a20>>)\n",
      "PropnetNode(node_type=<PropnetNodeType.SymbolType: 2>, node_value=<SymbolType.volume_unit_cell: <propnet.core.symbols.SymbolMetadata object at 0x109ce4a98>>)\n",
      "PropnetNode(node_type=<PropnetNodeType.SymbolType: 2>, node_value=<SymbolType.youngs_modulus: <propnet.core.symbols.SymbolMetadata object at 0x109ce4b10>>)\n",
      "PropnetNode(node_type=<PropnetNodeType.SymbolType: 2>, node_value=<SymbolType.poisson_ratio: <propnet.core.symbols.SymbolMetadata object at 0x109ce4b88>>)\n",
      "PropnetNode(node_type=<PropnetNodeType.SymbolType: 2>, node_value=<SymbolType.lame_first_parameter: <propnet.core.symbols.SymbolMetadata object at 0x109ce4c00>>)\n",
      "PropnetNode(node_type=<PropnetNodeType.SymbolType: 2>, node_value=<SymbolType.magnetic_deformation: <propnet.core.symbols.SymbolMetadata object at 0x109ce4c78>>)\n",
      "PropnetNode(node_type=<PropnetNodeType.SymbolType: 2>, node_value=<SymbolType.compliance_tensor_voigt: <propnet.core.symbols.SymbolMetadata object at 0x109ce4cf0>>)\n",
      "PropnetNode(node_type=<PropnetNodeType.SymbolType: 2>, node_value=<SymbolType.snyder_optical_sound_velocity: <propnet.core.symbols.SymbolMetadata object at 0x109ce4d68>>)\n",
      "PropnetNode(node_type=<PropnetNodeType.SymbolType: 2>, node_value=<SymbolType.formation_energy_per_atom: <propnet.core.symbols.SymbolMetadata object at 0x109ce4de0>>)\n",
      "PropnetNode(node_type=<PropnetNodeType.SymbolType: 2>, node_value=<SymbolType.strengthening_coefficient: <propnet.core.symbols.SymbolMetadata object at 0x109ce4e58>>)\n",
      "PropnetNode(node_type=<PropnetNodeType.SymbolType: 2>, node_value=<SymbolType.band_gap: <propnet.core.symbols.SymbolMetadata object at 0x109ce4ed0>>)\n",
      "PropnetNode(node_type=<PropnetNodeType.SymbolType: 2>, node_value=<SymbolType.peierls_stress: <propnet.core.symbols.SymbolMetadata object at 0x109ce4f48>>)\n",
      "PropnetNode(node_type=<PropnetNodeType.SymbolType: 2>, node_value=<SymbolType.shear_modulus: <propnet.core.symbols.SymbolMetadata object at 0x109d11048>>)\n",
      "PropnetNode(node_type=<PropnetNodeType.SymbolType: 2>, node_value=<SymbolType.bulk_modulus: <propnet.core.symbols.SymbolMetadata object at 0x109d110c0>>)\n",
      "PropnetNode(node_type=<PropnetNodeType.SymbolType: 2>, node_value=<SymbolType.yield_stress: <propnet.core.symbols.SymbolMetadata object at 0x109d11138>>)\n",
      "PropnetNode(node_type=<PropnetNodeType.SymbolType: 2>, node_value=<SymbolType.band_gap_gw: <propnet.core.symbols.SymbolMetadata object at 0x109d111b0>>)\n",
      "PropnetNode(node_type=<PropnetNodeType.SymbolType: 2>, node_value=<SymbolType.lattice_unit_cell: <propnet.core.symbols.SymbolMetadata object at 0x109d11228>>)\n",
      "PropnetNode(node_type=<PropnetNodeType.SymbolType: 2>, node_value=<SymbolType.ionic_radius_a: <propnet.core.symbols.SymbolMetadata object at 0x109d112a0>>)\n",
      "PropnetNode(node_type=<PropnetNodeType.SymbolType: 2>, node_value=<SymbolType.relative_permeability: <propnet.core.symbols.SymbolMetadata object at 0x109d11318>>)\n",
      "PropnetNode(node_type=<PropnetNodeType.SymbolType: 2>, node_value=<SymbolType.density: <propnet.core.symbols.SymbolMetadata object at 0x109d11390>>)\n",
      "PropnetNode(node_type=<PropnetNodeType.SymbolType: 2>, node_value=<SymbolType.electrical_conductivity: <propnet.core.symbols.SymbolMetadata object at 0x109d11408>>)\n",
      "PropnetNode(node_type=<PropnetNodeType.SymbolType: 2>, node_value=<SymbolType.energy_per_atom: <propnet.core.symbols.SymbolMetadata object at 0x109d11480>>)\n",
      "PropnetNode(node_type=<PropnetNodeType.SymbolType: 2>, node_value=<SymbolType.ionic_radius: <propnet.core.symbols.SymbolMetadata object at 0x109d114f8>>)\n",
      "PropnetNode(node_type=<PropnetNodeType.SymbolType: 2>, node_value=<SymbolType.dislocation_movement_stress: <propnet.core.symbols.SymbolMetadata object at 0x109d11570>>)\n",
      "PropnetNode(node_type=<PropnetNodeType.SymbolType: 2>, node_value=<SymbolType.snyder_total_sound_velocity: <propnet.core.symbols.SymbolMetadata object at 0x109d115e8>>)\n",
      "PropnetNode(node_type=<PropnetNodeType.SymbolType: 2>, node_value=<SymbolType.energy_above_hull: <propnet.core.symbols.SymbolMetadata object at 0x109d11660>>)\n",
      "PropnetNode(node_type=<PropnetNodeType.SymbolType: 2>, node_value=<SymbolType.debye_temperature: <propnet.core.symbols.SymbolMetadata object at 0x109d116d8>>)\n",
      "PropnetNode(node_type=<PropnetNodeType.SymbolType: 2>, node_value=<SymbolType.piezoelectric_tensor: <propnet.core.symbols.SymbolMetadata object at 0x109d11750>>)\n",
      "PropnetNode(node_type=<PropnetNodeType.SymbolType: 2>, node_value=<SymbolType.nsites: <propnet.core.symbols.SymbolMetadata object at 0x109d117c8>>)\n",
      "PropnetNode(node_type=<PropnetNodeType.SymbolType: 2>, node_value=<SymbolType.resolved_shear_stress: <propnet.core.symbols.SymbolMetadata object at 0x109d11840>>)\n",
      "PropnetNode(node_type=<PropnetNodeType.SymbolType: 2>, node_value=<SymbolType.temperature: <propnet.core.symbols.SymbolMetadata object at 0x109d118b8>>)\n",
      "PropnetNode(node_type=<PropnetNodeType.SymbolType: 2>, node_value=<SymbolType.grain_diameter: <propnet.core.symbols.SymbolMetadata object at 0x109d11930>>)\n",
      "PropnetNode(node_type=<PropnetNodeType.SymbolType: 2>, node_value=<SymbolType.schmid_factor: <propnet.core.symbols.SymbolMetadata object at 0x109d119a8>>)\n",
      "PropnetNode(node_type=<PropnetNodeType.SymbolType: 2>, node_value=<SymbolType.applied_stress: <propnet.core.symbols.SymbolMetadata object at 0x109d11a20>>)\n",
      "PropnetNode(node_type=<PropnetNodeType.Model: 4>, node_value={'title': 'Debye model', 'tags': ['thermal'], 'references': [''], 'symbol_mapping': {'C_ij': 'elastic_tensor_voigt', 'd': 'debye_temperature', 'structure': 'structure'}, 'connections': [{'inputs': 'd', 'outputs': ['C_ij', 'structure']}], 'description': \"\\nAssuming a linear dispersion relationship between angular frequency and\\nwave number along with a free particle k-vector density of states, the\\nDebye model is a highly-effective estimate of low-temperature heat capacity.\\n\\nUsing the grand canonical ensemble, the model correctly predicts the transition\\nfrom increasing heat capacity at low temperatures to roughly constant heat\\ncapacity at high temperatures (Dulong Pétit rule). This transition occurs\\nroughly at the Debye temperature.\\n\\nThe Debye temperature can be shown to depend only on fundamental constants,\\ndensity of the material, and the effective sound velocity in the material.\\nThe effective sound velocity is in turn related to the material's bulk modulus.\\n\\nAt intermediate temperatures, especially those around the debye temperature,\\ndeviations in heat capacity may occur due to a breakdown in the linearity\\nof the dispersion relationship for real materials.\\n\\nThis model currently uses the implementation in pymatgen.\\n\"})\n",
      "PropnetNode(node_type=<PropnetNodeType.Model: 4>, node_value={'title': 'Estimate experimental band gaps from GW and DFT (PBE) calculations', 'tags': ['electronic'], 'references': ['doi:10.1021/acs.jpcc.7b07421'], 'symbol_mapping': {'E_g_GW': 'band_gap_gw', 'E_g_PBE': 'band_gap_pbe', 'E_g_expt': 'band_gap'}, 'connections': [{'inputs': 'E_g_expt', 'outputs': ['E_g_GW']}, {'inputs': 'E_g_GW', 'outputs': ['E_g_PBE']}], 'equations': ['E_g_expt - 0.998*E_g_GW + 0.014', 'E_g_expt - 1.358*E_g_PBE + 0.904'], 'description': '\\nBand gaps estimated using Density Functional Theory (and the PBE exchange-correlation\\nfunctional) typically underestimate the true band gap.'})\n",
      "PropnetNode(node_type=<PropnetNodeType.Model: 4>, node_value={'title': 'Calculate Snyder sound velocities', 'tags': ['elastic'], 'references': ['TODO'], 'symbol_mapping': {'C_ij': 'elastic_tensor_voigt', 'structure': 'structure', 'v_ac': 'snyder_acoustic_sound_velocity', 'v_op': 'snyder_optical_sound_velocity', 'v_tot': 'snyder_total_sound_velocity'}, 'connections': [{'inputs': 'v_ac', 'outputs': ['C_ij', 'structure']}, {'inputs': 'v_op', 'outputs': ['C_ij', 'structure']}], 'description': '\\nThis model currently uses the implementation in pymatgen.\\n'})\n",
      "PropnetNode(node_type=<PropnetNodeType.Model: 4>, node_value={'title': 'Clarke thermal conductivity', 'tags': ['thermal'], 'references': ['url:https://doi.org/10.1016/S0257-8972(02)00593-5'], 'symbol_mapping': {'C_ij': 'elastic_tensor_voigt', '_structure': 'structure', 't': 'thermal_conductivity'}, 'connections': [{'inputs': 't', 'outputs': ['C_ij', '_structure']}], 'description': '\\nBased on the model posited in https://doi.org/10.1016/S0257-8972(02)00593-5,\\npredicts the thermal conductivity of materials in the high temperature limit.\\nMaterials have smaller values of Clarke thermal conductivity should be expected\\nto have smaller thermal conductivity at high temperatures.\\n\\nIn particular, this model predicts that a material will have low thermal conductivity\\nat high temperatures if it has the following broad characteristics\\n\\n1) A large molecular weight\\n2) A complex crystal structure\\n3) Non-directional bonding\\n4) A large number of different atoms per molecule\\n\\nThis model currently uses the implementation in pymatgen.'})\n",
      "PropnetNode(node_type=<PropnetNodeType.Model: 4>, node_value={'title': 'Refractive index, relative permeability and permittivity', 'tags': ['optical'], 'references': ['url:https://en.wikipedia.org/wiki/Refractive_index#Relative_permittivity_and_permeability}'], 'symbol_mapping': {'Er': 'relative_permeability', 'Ur': 'relative_permittivity', 'n': 'refractive_index'}, 'connections': [{'inputs': ['Ur', 'Er'], 'outputs': 'n'}, {'inputs': ['Er', 'n'], 'outputs': 'Ur'}, {'inputs': ['Ur', 'n'], 'outputs': 'Er'}], 'equations': ['n - sqrt(Ur*Er)'], 'description': '\\nThe refractive index gives the factor by which the speed of light is reduced in a medium.\\n\\nLikewise, modeling the induced magnetic and electric dipoles as linear within a material,\\na relative spatial electrical permittivity and relative spatial magnetic permeability\\narise from consideration of the total electrical and magnetic fields.\\n\\nFrom the Maxwell Relations, the index of refraction is equal to the geometric mean  of the\\nrelative permittivity and the relative permeability.\\n'})\n",
      "PropnetNode(node_type=<PropnetNodeType.Model: 4>, node_value={'title': 'Wiedemann-Franz Law', 'tags': ['thermal', 'empirical'], 'references': ['url:http://hyperphysics.phy-astr.gsu.edu/hbase/thermo/thercond.html#c2'], 'symbol_mapping': {'T': 'temperature', '_is_metallic': 'is_metallic', 'k': 'electronic_thermal_conductivity', 'o': 'electrical_conductivity'}, 'connections': [{'inputs': ['T', 'k', '_is_metallic'], 'outputs': ['o']}, {'inputs': ['T', 'o', '_is_metallic'], 'outputs': ['k']}], 'equations': ['T * 2.45*10**-8 * o - k'], 'description': '\\nThe Wiedemann-Franz Law states that the ratio of the\\nelectronic component of thermal conductivity to electrical\\nconductivity is proportional to temperature.\\n\\nThis model is based on the application of the drude model, using\\npredictions from the kinetic model of an ideal gas. Thus, the\\nWiedemann-Franz Law is only widely applicable to metallic solids.\\n\\nIn general the WFL constant (2.45E-8) may vary between metals due\\nto deviations from the free electron model. In particular, there\\nmay be significant deviations from this model at intermediate\\ntemperatures, whereas strong agreement has been observed at\\nboth low and high temperatures.\\n\\nStrongly correllated systems can also exhibit substantial deviations\\nfrom this relation where heat and charge transfer become decoupled.'})\n",
      "PropnetNode(node_type=<PropnetNodeType.Model: 4>, node_value={'title': \"Schmid's Law\", 'tags': ['mechanical'], 'references': ['url:https://en.wikipedia.org/wiki/Schmid%27s_law'], 'symbol_mapping': {'T': 'resolved_shear_stress', 'm': 'schmid_factor', 'σ': 'applied_stress'}, 'connections': [{'inputs': 'T', 'outputs': ['m', 'σ']}], 'equations': ['T-mσ'], 'description': \"\\nSchmid's Law states that the critically resolved shear stress is equal\\nto the stress applied to the material multipled by a geometric factor combining\\nangles of the glide plane and glide direction.\"})\n",
      "PropnetNode(node_type=<PropnetNodeType.Model: 4>, node_value={'title': 'Find Goldchmidt Tolerance Factor from ionic radii', 'tags': ['stability'], 'references': [], 'symbol_mapping': {'r_anion': 'ionic_radius', 'r_cation_A': 'ionic_radius', 'r_cation_B': 'ionic_radius', 't': 'goldschmidt_tolerance_factor'}, 'connections': [{'inputs': ['r_cation_B', 'r_cation_A', 'r_anion'], 'outputs': 't'}], 'constants': [{'r_anion': 1.28}], 'equations': ['t - (r_cation_A + r_anion)/(2**.5 * (r_cation_B + r_anion))'], 'description': '\\nThe Goldchmidt Tolerance Factor is a dimensionless number used to indicate\\nthe stability and distorition of crystal structures.\\n\\nIt can be reliably used as a metric in perovskites and ilmenites.'})\n",
      "PropnetNode(node_type=<PropnetNodeType.Model: 4>, node_value={'title': 'Decorate crystal structure with oxidation state', 'tags': ['transformations'], 'references': ['TODO'], 'symbol_mapping': {'s': 'structure', 's_oxi': 'structure_oxi'}, 'connections': [{'inputs': 's_oxi', 'outputs': ['s']}], 'description': '\\nThis model attempts to work out what oxidation state is on each crystallographic\\nsite using the materials analysis code pymatgen.'})\n",
      "PropnetNode(node_type=<PropnetNodeType.Model: 4>, node_value={'title': 'Perovskite Classifier', 'tags': ['classifier'], 'symbol_mapping': {'r_A': 'ionic_radius_a', 'r_B': 'ionic_radius_b', 's': 'structure_oxi'}, 'connections': [{'inputs': ['r_A', 'r_B'], 'outputs': ['s']}], 'description': '\\nThis model classifies whether a crystal is a perovskite, and returns information\\non the A-site ionic radius and B-site ionic radius.'})\n",
      "PropnetNode(node_type=<PropnetNodeType.Model: 4>, node_value={'title': 'Peierls-Nabarro Stress for Dislocation Slip', 'tags': ['dislocations'], 'references': ['url:https://en.wikipedia.org/wiki/Peierls_stress}'], 'symbol_mapping': {'G': 'shear_modulus', 'T_pn': 'peierls_stress', 'a': 'interplanar_spacing', 'b': 'interatomic_spacing', 'ν': 'poisson_ratio'}, 'connections': [{'inputs': 'T_pn', 'outputs': ['ν', 'a', 'G', 'b']}], 'equations': ['T_pn - G*sp.E**(-2*sp.pi*a/(1-ν)/b)'], 'description': '\\nPeierls stress is the force required to move a dislocation within a plane of atoms in a unit cell.'})\n",
      "PropnetNode(node_type=<PropnetNodeType.Model: 4>, node_value={'title': 'Estimate experimental band gaps from DFT (PBE) calculations', 'tags': ['electronic'], 'references': ['doi:10.1021/co200012w'], 'symbol_mapping': {'E_g_PBE': 'band_gap_pbe', 'E_g_expt': 'band_gap'}, 'connections': [{'inputs': 'E_g_expt', 'outputs': ['E_g_PBE']}], 'equations': ['E_g_expt - 1.348*E_g_pbe + 0.913'], 'description': '\\nBand gaps estimated using Density Functional Theory (and the PBE exchange-correlation\\nfunctional) typically underestimate the true band gap. A linear least squares fit\\ncan provide an estimate of the true band gap from the PBE gap (R² = 0.886 when tested\\nagainst 100 compounds with gaps between ~1 and ~12 eV).'})\n",
      "PropnetNode(node_type=<PropnetNodeType.Model: 4>, node_value={'title': 'Metallic Classifier', 'tags': ['classifier'], 'symbol_mapping': {'E_g': 'band_gap_pbe', 'is_metallic': 'is_metallic'}, 'connections': [{'inputs': 'is_metallic', 'outputs': ['E_g']}], 'description': '\\nThis model returns true if band gap is zero.\\n'})\n"
     ]
    }
   ],
   "source": [
    "for n in p.graph.nodes():\n",
    "    print(n)"
   ]
  },
  {
   "cell_type": "markdown",
   "metadata": {},
   "source": [
    "# Defining a Symbol or Property"
   ]
  },
  {
   "cell_type": "markdown",
   "metadata": {},
   "source": [
    "A SymbolType object is used to represent types of properties (such as Young's Modulus) or conditions (such as Temperature).\n",
    "- All SymbolType objects are accessible in a global SymbolType variable.\n",
    "- Various metadata for each SymbolType can be accessed as shown below."
   ]
  },
  {
   "cell_type": "code",
   "execution_count": 5,
   "metadata": {},
   "outputs": [],
   "source": [
    "from propnet.symbols import SymbolType"
   ]
  },
  {
   "cell_type": "code",
   "execution_count": 6,
   "metadata": {},
   "outputs": [],
   "source": [
    "symbol_type_object = SymbolType['youngs_modulus'].value"
   ]
  },
  {
   "cell_type": "code",
   "execution_count": 7,
   "metadata": {},
   "outputs": [
    {
     "data": {
      "text/plain": [
       "{'@class': 'SymbolMetadata',\n",
       " '@module': 'propnet.core.symbols',\n",
       " 'comment': '',\n",
       " 'dimension': 1,\n",
       " 'display_names': [\"Young's modulus\", 'Elastic modulus'],\n",
       " 'display_symbols': ['E'],\n",
       " 'name': 'youngs_modulus',\n",
       " 'test_value': 130.0,\n",
       " 'type': 'property',\n",
       " 'units': <Quantity(1.0, 'gigapascal')>}"
      ]
     },
     "execution_count": 7,
     "metadata": {},
     "output_type": "execute_result"
    }
   ],
   "source": [
    "symbol_type_object.as_dict()"
   ]
  },
  {
   "cell_type": "markdown",
   "metadata": {},
   "source": [
    "A Symbol object is used to represent values of properties (such as Young's Modulus = 200GPa) or conditions (such as temperature = 300K).\n",
    "\n",
    "- All Symbol objects have a SymbolType giving the type of property represented by the value.\n",
    "- All Symbol objects must be created at runtime by specifying a value during instantiation.\n",
    "- All Symbol objects have a list of strings called \"tags\" used to further label the property."
   ]
  },
  {
   "cell_type": "code",
   "execution_count": 8,
   "metadata": {},
   "outputs": [],
   "source": [
    "from propnet.symbols import SymbolType\n",
    "from propnet import Symbol"
   ]
  },
  {
   "cell_type": "code",
   "execution_count": 9,
   "metadata": {},
   "outputs": [],
   "source": [
    "youngs_modulus_type = SymbolType['youngs_modulus'].value\n",
    "steel_youngs_modulus = Symbol(youngs_modulus_type, 200, ['mild steel'])"
   ]
  },
  {
   "cell_type": "code",
   "execution_count": 10,
   "metadata": {},
   "outputs": [
    {
     "data": {
      "text/plain": [
       "{'@class': 'Symbol',\n",
       " '@module': 'propnet.core.symbols',\n",
       " 'provenance': None,\n",
       " 'tags': ['mild steel'],\n",
       " 'type': {'@class': 'SymbolMetadata',\n",
       "  '@module': 'propnet.core.symbols',\n",
       "  'comment': '',\n",
       "  'dimension': 1,\n",
       "  'display_names': [\"Young's modulus\", 'Elastic modulus'],\n",
       "  'display_symbols': ['E'],\n",
       "  'name': 'youngs_modulus',\n",
       "  'test_value': 130.0,\n",
       "  'type': 'property',\n",
       "  'units': <Quantity(1.0, 'gigapascal')>},\n",
       " 'value': 200}"
      ]
     },
     "execution_count": 10,
     "metadata": {},
     "output_type": "execute_result"
    }
   ],
   "source": [
    "steel_youngs_modulus.as_dict()"
   ]
  },
  {
   "cell_type": "markdown",
   "metadata": {},
   "source": [
    "# Defining a Material"
   ]
  },
  {
   "cell_type": "markdown",
   "metadata": {},
   "source": [
    "A Material object is used to represent a collection of information known about a given material.\n",
    "\n",
    "When it is first created it has no information; however, properties can be added to the material one-by-one."
   ]
  },
  {
   "cell_type": "code",
   "execution_count": 11,
   "metadata": {},
   "outputs": [],
   "source": [
    "from propnet import Material\n",
    "from propnet.symbols import SymbolType\n",
    "from propnet import Symbol"
   ]
  },
  {
   "cell_type": "code",
   "execution_count": 12,
   "metadata": {},
   "outputs": [],
   "source": [
    "mild_steel = Material()\n",
    "youngs_modulus = Symbol(SymbolType['youngs_modulus'], 200, [])\n",
    "mild_steel.add_property(youngs_modulus)"
   ]
  },
  {
   "cell_type": "code",
   "execution_count": 14,
   "metadata": {},
   "outputs": [
    {
     "name": "stdout",
     "output_type": "stream",
     "text": [
      "Material: 7d95f9a2-fd86-456b-8b6c-8435000a2353\n",
      "\tyoungs_modulus:\t200\n",
      "\n"
     ]
    }
   ],
   "source": [
    "print(mild_steel)"
   ]
  },
  {
   "cell_type": "markdown",
   "metadata": {},
   "source": [
    "# Combining Models, Materials, and Symbols"
   ]
  },
  {
   "cell_type": "markdown",
   "metadata": {},
   "source": [
    "As illustrated, a Propnet object contains information for connecting many different models and symbol types. This forms an abstract web of interconnected variables without any quantities specified.\n",
    "\n",
    "On the other hand, a Material object represents a grouping of values for different variables. These are represented as a collection of Symbol objects identified with the material.\n",
    "\n",
    "At runtime, a single Propnet object can be combined with one or more Material objects. This procedure allows values to be plugged in to variables. Assuming the required inputs for a model all have values, the Propnet object can then dynamically predict the values for the output variables of the model."
   ]
  },
  {
   "cell_type": "code",
   "execution_count": 24,
   "metadata": {},
   "outputs": [],
   "source": [
    "## Setting up the example:\n",
    "from propnet import Propnet\n",
    "p = Propnet()\n",
    "\n",
    "silica = Material()\n",
    "refractive_index = Symbol(SymbolType['refractive_index'], 1.458, [])\n",
    "relative_permittivity = Symbol(SymbolType['relative_permittivity'], 3.9, [])\n",
    "\n",
    "silica.add_property(refractive_index)\n",
    "silica.add_property(relative_permittivity)\n",
    "\n",
    "p.add_material(silica)"
   ]
  },
  {
   "cell_type": "markdown",
   "metadata": {},
   "source": [
    "Propnet can now examine the input values and identify if any models can be used to derive additional properties.\n",
    "\n",
    "In this example, we've provided the relative permittivity and index of refraction of silica. Thus, using the canonical relationship from electromagnetism, we expect Propnet to properly derive the relative permeability.\n",
    "\n",
    "Re-examining the material object previously created, a new Symbol object, the relative permeability, is now associated with that material."
   ]
  },
  {
   "cell_type": "code",
   "execution_count": 25,
   "metadata": {},
   "outputs": [
    {
     "name": "stdout",
     "output_type": "stream",
     "text": [
      "Material: 655b0593-87dd-4452-9bce-190e879af5b6\n",
      "\trefractive_index:\t1.458\n",
      "\trelative_permittivity:\t3.9\n",
      "\trelative_permeability:\t0.545067692307692\n",
      "\n"
     ]
    }
   ],
   "source": [
    "p.evaluate(material=silica)\n",
    "print(silica)"
   ]
  },
  {
   "cell_type": "markdown",
   "metadata": {},
   "source": [
    "# Working with Models"
   ]
  },
  {
   "cell_type": "markdown",
   "metadata": {},
   "source": [
    "A Model object is used to represent a relationship between different materials property variables. This object can be directly manipulated and stores relavent metadata available as direct attributes.\n",
    "\n",
    "- All Models are imported as classes at runtime.\n",
    "- A Model class must be instantiated to be used at runtime."
   ]
  },
  {
   "cell_type": "code",
   "execution_count": 34,
   "metadata": {},
   "outputs": [
    {
     "name": "stdout",
     "output_type": "stream",
     "text": [
      "\n",
      "The refractive index gives the factor by which the speed of light is reduced in a medium.\n",
      "\n",
      "Likewise, modeling the induced magnetic and electric dipoles as linear within a material,\n",
      "a relative spatial electrical permittivity and relative spatial magnetic permeability\n",
      "arise from consideration of the total electrical and magnetic fields.\n",
      "\n",
      "From the Maxwell Relations, the index of refraction is equal to the geometric mean  of the\n",
      "relative permittivity and the relative permeability.\n",
      "\n",
      "RefractiveIndexfromRelPerm\n",
      "['n - sqrt(Ur*Er)']\n"
     ]
    }
   ],
   "source": [
    "from propnet.models import *\n",
    "model = RefractiveIndexfromRelPerm()\n",
    "print(model.description)\n",
    "print(model.name)\n",
    "print(model.equations)"
   ]
  },
  {
   "cell_type": "markdown",
   "metadata": {},
   "source": [
    "The Model class is a generally-defined interface, and subclasses may alter many aspects of its underlying functionality.\n",
    "\n",
    "\n",
    "Most Model objects will contain equations, symbols, and connections attributes. These define the core functionality of the model:\n",
    "\n",
    "The equations attribute will contain a list of sympy-parsable expressions. These expressions imply trivial equations such that the expression is equal to zero.\n",
    "\n",
    "The symbols attribute map the symbols used in the equations to Symbol_Type objects used in the Property Network.\n",
    "\n",
    "The connections attribute shows what outputs can be generated from a set of inputs."
   ]
  },
  {
   "cell_type": "code",
   "execution_count": 36,
   "metadata": {},
   "outputs": [
    {
     "name": "stdout",
     "output_type": "stream",
     "text": [
      "{'Er': 'relative_permeability', 'Ur': 'relative_permittivity', 'n': 'refractive_index'}\n",
      "['n - sqrt(Ur*Er)']\n",
      "[{'inputs': ['Ur', 'Er'], 'outputs': 'n'}, {'inputs': ['Er', 'n'], 'outputs': 'Ur'}, {'inputs': ['Ur', 'n'], 'outputs': 'Er'}]\n"
     ]
    }
   ],
   "source": [
    "print(model.symbol_mapping)\n",
    "print(model.equations)\n",
    "print(model.connections)"
   ]
  },
  {
   "cell_type": "markdown",
   "metadata": {},
   "source": [
    "A Model can be evaluated to generate outputs if given a complete set of inputs.\n",
    "\n",
    "Given the relative permeability and permittivity, the Refractive Index From Relative Permeability model can correctly calculate the index of refraction."
   ]
  },
  {
   "cell_type": "code",
   "execution_count": 37,
   "metadata": {},
   "outputs": [
    {
     "data": {
      "text/plain": [
       "{'n': 1.45120639469374, 'successful': True}"
      ]
     },
     "execution_count": 37,
     "metadata": {},
     "output_type": "execute_result"
    }
   ],
   "source": [
    "model.evaluate({'Ur': 0.54, 'Er': 3.9})"
   ]
  },
  {
   "cell_type": "markdown",
   "metadata": {},
   "source": [
    "# Coming Soon..."
   ]
  },
  {
   "cell_type": "code",
   "execution_count": 15,
   "metadata": {},
   "outputs": [],
   "source": [
    "from pint import UnitRegistry"
   ]
  },
  {
   "cell_type": "code",
   "execution_count": 16,
   "metadata": {},
   "outputs": [],
   "source": [
    "ureg = UnitRegistry()"
   ]
  },
  {
   "cell_type": "code",
   "execution_count": 19,
   "metadata": {},
   "outputs": [
    {
     "data": {
      "text/plain": [
       "(1, (('gigapascal', 1.0),))"
      ]
     },
     "execution_count": 19,
     "metadata": {},
     "output_type": "execute_result"
    }
   ],
   "source": [
    "ureg.parse_expression(\"gigapascal\").to_tuple()"
   ]
  },
  {
   "cell_type": "code",
   "execution_count": 24,
   "metadata": {},
   "outputs": [],
   "source": [
    "node_list = list(p.graph.nodes)"
   ]
  },
  {
   "cell_type": "code",
   "execution_count": 27,
   "metadata": {},
   "outputs": [],
   "source": [
    "from enum import Enum"
   ]
  },
  {
   "cell_type": "code",
   "execution_count": 32,
   "metadata": {},
   "outputs": [
    {
     "name": "stdout",
     "output_type": "stream",
     "text": [
      "<class 'propnet.models.ElasticComplianceVoigtConverter.ElasticComplianceVoigtConverter'>\n",
      "<class 'abc.ABCMeta'>\n"
     ]
    }
   ],
   "source": [
    "idx = 10\n",
    "print(node_list[idx])\n",
    "print(type(node_list[idx]))\n",
    "if isinstance(node_list[idx], Enum):\n",
    "    print(node_list[idx].value)\n",
    "    print(type(node_list[idx].value))"
   ]
  },
  {
   "cell_type": "code",
   "execution_count": 33,
   "metadata": {},
   "outputs": [
    {
     "ename": "AttributeError",
     "evalue": "type object 'Material' has no attribute 'from_mpid'",
     "output_type": "error",
     "traceback": [
      "\u001b[0;31m---------------------------------------------------------------------------\u001b[0m",
      "\u001b[0;31mAttributeError\u001b[0m                            Traceback (most recent call last)",
      "\u001b[0;32m<ipython-input-33-5b5f1965f881>\u001b[0m in \u001b[0;36m<module>\u001b[0;34m()\u001b[0m\n\u001b[0;32m----> 1\u001b[0;31m \u001b[0mmy_material\u001b[0m \u001b[0;34m=\u001b[0m \u001b[0mMaterial\u001b[0m\u001b[0;34m.\u001b[0m\u001b[0mfrom_mpid\u001b[0m\u001b[0;34m(\u001b[0m\u001b[0;34m\"mp-12345\"\u001b[0m\u001b[0;34m)\u001b[0m\u001b[0;34m\u001b[0m\u001b[0m\n\u001b[0m\u001b[1;32m      2\u001b[0m \u001b[0mp\u001b[0m\u001b[0;34m.\u001b[0m\u001b[0madd_material\u001b[0m\u001b[0;34m(\u001b[0m\u001b[0mmy_material\u001b[0m\u001b[0;34m)\u001b[0m\u001b[0;34m\u001b[0m\u001b[0m\n",
      "\u001b[0;31mAttributeError\u001b[0m: type object 'Material' has no attribute 'from_mpid'"
     ]
    }
   ],
   "source": [
    "my_material = Material.from_mpid(\"mp-12345\")\n",
    "p.add_material(my_material)"
   ]
  },
  {
   "cell_type": "markdown",
   "metadata": {},
   "source": [
    "# Defining a Model with Constraints"
   ]
  },
  {
   "cell_type": "code",
   "execution_count": null,
   "metadata": {},
   "outputs": [],
   "source": [
    "class MySampleModel(AbstractModel):\n",
    "    \n",
    "    "
   ]
  }
 ],
 "metadata": {
  "kernelspec": {
   "display_name": "Python 3",
   "language": "python",
   "name": "python3"
  },
  "language_info": {
   "codemirror_mode": {
    "name": "ipython",
    "version": 3
   },
   "file_extension": ".py",
   "mimetype": "text/x-python",
   "name": "python",
   "nbconvert_exporter": "python",
   "pygments_lexer": "ipython3",
   "version": "3.6.3"
  }
 },
 "nbformat": 4,
 "nbformat_minor": 2
}
